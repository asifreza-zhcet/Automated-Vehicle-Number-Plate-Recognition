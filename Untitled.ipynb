{
 "cells": [
  {
   "cell_type": "code",
   "execution_count": 1,
   "id": "03af3ed1",
   "metadata": {},
   "outputs": [],
   "source": [
    "import cv2 as cv\n",
    "from tqdm import tqdm\n",
    "from ultralytics import YOLO\n",
    "import pytesseract\n",
    "import numpy as np"
   ]
  },
  {
   "cell_type": "code",
   "execution_count": 2,
   "id": "5832b068",
   "metadata": {},
   "outputs": [],
   "source": [
    "model3 = YOLO(r\"C:\\Users\\rezaa\\spyder\\Cricket-umpire-gesture-estimation\\plate_detector_model.pt\")"
   ]
  },
  {
   "cell_type": "code",
   "execution_count": 3,
   "id": "1a00666f",
   "metadata": {},
   "outputs": [],
   "source": [
    "def plate(img):\n",
    "    results = model3.predict(img, verbose=False)\n",
    "    plate_img=None\n",
    "    plate_detected = False\n",
    "    if results[0].boxes.cls.nelement() != 0:\n",
    "        plate_detected = True\n",
    "        cor = results[0].boxes.xyxy[0]\n",
    "        x1, y1, x2, y2 = [int(num) for num in cor.tolist()]\n",
    "        plate_img = results[0].orig_img[y1:y2,x1:x2,:]\n",
    "    return plate_img, plate_detected"
   ]
  },
  {
   "cell_type": "code",
   "execution_count": 4,
   "id": "64d5a3ab",
   "metadata": {},
   "outputs": [
    {
     "name": "stderr",
     "output_type": "stream",
     "text": [
      "Neither CUDA nor MPS are available - defaulting to CPU. Note: This module is much faster with a GPU.\n"
     ]
    }
   ],
   "source": [
    "import easyocr\n",
    "reader = easyocr.Reader(['en'])\n",
    "\n",
    "def preprocessing(img_r):\n",
    "    img = cv.cvtColor(img_r, cv.COLOR_BGR2GRAY)\n",
    "    h, w = img.shape\n",
    "    img = cv.resize(img, (w*8,h*8), interpolation = cv.INTER_CUBIC)\n",
    "    ret, img = cv.threshold(img, 125, 255, cv.THRESH_BINARY)  \n",
    "    kernel = np.ones((1,1),np.uint8)\n",
    "    img = cv.dilate(img,kernel,iterations=1)\n",
    "    img = cv.erode(img, kernel,iterations=1)\n",
    "    text =''\n",
    "    for _, t, _ in reader.readtext(img):\n",
    "        text += t\n",
    "    return text\n",
    "\n"
   ]
  },
  {
   "cell_type": "code",
   "execution_count": 13,
   "id": "176c2a43",
   "metadata": {
    "scrolled": true
   },
   "outputs": [
    {
     "name": "stderr",
     "output_type": "stream",
     "text": [
      "Processing:  65%|██████████████████████████████▋                | 107/164 [00:38<00:20,  2.78iter/s]\n"
     ]
    }
   ],
   "source": [
    "model = YOLO(r'C:\\Users\\rezaa\\spyder\\Cricket-umpire-gesture-estimation\\yolov8n.pt')\n",
    "\n",
    "cap = cv.VideoCapture(r\"C:\\Users\\rezaa\\spyder\\Cricket-umpire-gesture-estimation\\sample_video\\VID_20240715_130710.mp4\")\n",
    "frame_width = int(cap.get(cv.CAP_PROP_FRAME_WIDTH))\n",
    "frame_height = int(cap.get(cv.CAP_PROP_FRAME_HEIGHT))\n",
    "total_frames = int(cap.get(cv.CAP_PROP_FRAME_COUNT))\n",
    "allowed_h = frame_height // 1.5\n",
    "all_ids = []\n",
    "\n",
    "plate_data = {}\n",
    "\n",
    "save_video = cv.VideoWriter('filename.avi', cv.VideoWriter_fourcc(*'MJPG'), 10, (500,500))\n",
    "\n",
    "for i in tqdm(range(total_frames), desc=\"Processing\", unit=\"iter\", ncols=100):\n",
    "# while True:\n",
    "\n",
    "    has_frame, frame = cap.read()\n",
    "    \n",
    "    if has_frame:\n",
    "        frame_n = frame\n",
    "        results = model.track(frame, persist=True, verbose = False)\n",
    "        has_car = False\n",
    "        for box in results[0].boxes:\n",
    "            if int(box.cls) == 2 and box.is_track :\n",
    "                has_car = True\n",
    "                identity = int(box.id)\n",
    "                x1,y1,x2,y2 = [int(num) for num in box.xyxy[0].tolist()]\n",
    "                frame_n = cv.rectangle(frame_n, (x1,y1), (x2,y2), (255,0,0) , 2)\n",
    "                has_plate = False\n",
    "                if identity not in all_ids and allowed_h < y2:\n",
    "                    car_img = results[0].orig_img[y1:y2,x1:x2,:]\n",
    "                    plate_img, has_plate = plate(car_img)\n",
    "                    \n",
    "                    \n",
    "                if has_plate:\n",
    "                    plate_text = preprocessing(plate_img)\n",
    "                    plate_data[identity] = plate_text\n",
    "                    all_ids.append(identity)\n",
    "                \n",
    "                if identity in all_ids:\n",
    "                    frame_n = cv.rectangle(frame_n, (x1,y1-25),(x2,y1), (0,0,0), -1)\n",
    "                    frame_n = cv.putText(frame_n, plate_data[identity], (x1,y1),cv.FONT_HERSHEY_TRIPLEX ,1,(225,255,255),1, cv.LINE_AA)\n",
    "\n",
    "        frame_n = cv.resize(frame_n, (800, 500))    \n",
    "        cv.imshow('my', frame_n)\n",
    "        if cv.waitKey(25) == ord(' '):\n",
    "            break\n",
    "\n",
    "                        \n",
    "                        \n",
    "                        \n",
    "    else:\n",
    "        break\n",
    "cv.destroyAllWindows()"
   ]
  },
  {
   "cell_type": "code",
   "execution_count": 23,
   "id": "7b12aeba",
   "metadata": {},
   "outputs": [],
   "source": [
    "re = preprocessing(cv.imread(r\"C:\\Users\\rezaa\\spyder\\Cricket-umpire-gesture-estimation\\img0.jpg\"))"
   ]
  },
  {
   "cell_type": "code",
   "execution_count": 26,
   "id": "324ea10b",
   "metadata": {},
   "outputs": [
    {
     "name": "stdout",
     "output_type": "stream",
     "text": [
      "Im)\n",
      "BRO9 R 2552\n"
     ]
    }
   ],
   "source": [
    "for _,text,_ in re:\n",
    "    print(text)"
   ]
  },
  {
   "cell_type": "code",
   "execution_count": null,
   "id": "5a4f70e3",
   "metadata": {},
   "outputs": [],
   "source": []
  }
 ],
 "metadata": {
  "kernelspec": {
   "display_name": "Python 3 (ipykernel)",
   "language": "python",
   "name": "python3"
  },
  "language_info": {
   "codemirror_mode": {
    "name": "ipython",
    "version": 3
   },
   "file_extension": ".py",
   "mimetype": "text/x-python",
   "name": "python",
   "nbconvert_exporter": "python",
   "pygments_lexer": "ipython3",
   "version": "3.10.13"
  }
 },
 "nbformat": 4,
 "nbformat_minor": 5
}
